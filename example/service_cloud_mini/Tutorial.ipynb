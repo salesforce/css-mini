{
 "cells": [
  {
   "cell_type": "markdown",
   "id": "0",
   "metadata": {},
   "source": [
    "<div style=\"\n",
    "    padding: 20px 20px;\n",
    "    border-bottom: 5px solid rgba(121, 133, 148, 0.05);\n",
    "\">\n",
    "    <img src=\"../shared/sf.svg\" alt=\"Header\" style=\"\n",
    "        max-width: 100%; \n",
    "        height: auto; \n",
    "        max-height: 60px; \n",
    "        border-radius: 10px;\n",
    "    \">\n",
    "</div>\n"
   ]
  },
  {
   "cell_type": "markdown",
   "id": "1",
   "metadata": {
    "tags": []
   },
   "source": [
    "<img src=\"../shared/notebook-header.png\" alt=\"Header\" style=\"\n",
    "    max-width: 100%; \n",
    "    height: auto; \n",
    "    max-height: 275px; \n",
    "    border-radius: 15px; /* Adjust the value to control the roundness */\n",
    "\">\n",
    "\n",
    "# Service Cloud CSS Example\n",
    "\n",
    "In this notebook, we provide an example similar to how we score Service Cloud usage in the real Customer Success Scorecard (CSS). We use fake data that was generated from theoretical distributions so this is cleaner than you would typically see in the wild, but serves our purpose of illutrating how Data Cloud enables our data science teams! The goal of this example is to walk the reader through setting up the AWS side of our architecture, such that it is ready to connect to Data Cloud. \n",
    "\n",
    "#### Table of Contents\n",
    "\n",
    "1. **[Deploy AWS Infrastructure](#Deploy-AWS-Infrastructure)**\n",
    "2. **[(Optional) Model Training](#(Optional)-Model-Training)**\n",
    "3. **[Build and Push Docker Container](#Build-and-Push-Docker-Container)**\n",
    "4. **[Deploy Endpoint](#Deploy-Endpoint)**\n",
    "5. **[Data Cloud](#Data-Cloud)**\n",
    "6. **[Clean Up](#Clean-Up)**\n",
    "\n",
    "<br><br>\n",
    "<div style=\"border-top: 15px solid rgba(121, 133, 148, 0.05); border-radius: 15px; width: 75%; margin: 20px auto;\"></div>\n",
    "<br><br>"
   ]
  },
  {
   "cell_type": "markdown",
   "id": "2",
   "metadata": {},
   "source": [
    "## Deploy AWS Infrastructure\n",
    "\n",
    "<div style=\"\n",
    "    border: 2px solid #6fa8dc;\n",
    "    background-color: rgba(121, 133, 148, 0.05); \n",
    "    padding: 1em; \n",
    "    margin-bottom: 1em; \n",
    "    border-radius: 8px;\n",
    "    box-shadow: 0 0 10px rgba(121, 133, 148, 0.05);\n",
    "\">\n",
    "    <h3 style=\"margin-top: 0; font-size: 1.25em;\"><b>Prerequisites</b></h3>\n",
    "Before getting started we must have an AWS account where we have admin access. We recommend a new clean account that you can play with and see the patterns then recreate them in a way that makes sense in your production environment.\n",
    "    <ul style=\"list-style-type: none; padding: 2; margin: 0;\">\n",
    "        <li style=\"display: flex; align-items: center; margin-bottom: 0.5em; margin-top: 0.5em;\">\n",
    "             <span>➡️ <a href=\"https://docs.aws.amazon.com/cli/latest/userguide/cli-chap-configure.html\" target=\"_blank\" style=\"text-decoration: none; color: #0073e6;\">Configure AWS CLI</a></span>\n",
    "        </li>\n",
    "        <li style=\"display: flex; align-items: center; margin-bottom: 0.5em; margin-top: 0.5em;\">\n",
    "             <span>➡️ <a href=\"https://developer.hashicorp.com/terraform/tutorials/aws-get-started/install-cli\" target=\"_blank\" style=\"text-decoration: none; color: #0073e6;\">Install Terraform</a></span>\n",
    "        </li>\n",
    "    </ul>\n",
    "</div>\n",
    "\n",
    "Packaged within the CSS repo is infrastructure code that deploys and configures a series of services within AWS allowing us to host and expose our model to Data Cloud. In short, we need an API proxy that wraps the underlying API exposed by SageMaker. See the architecture diagram below. There are three key components:\n",
    "\n",
    "<ul style=\"list-style-type: none; padding: 0; margin-left: 2em;\">\n",
    "    <li style=\"display: flex; align-items: center; margin-bottom: 0.5em;\">\n",
    "        <img src=\"resources/iam.png\" alt=\"Icon 1\" style=\"width: 20px; height: 20px; margin-right: 0.5em;\">\n",
    "        <span><b>IAM — </b> IAM roles that give permissions to our services: (1) API Gateway can invoke the SageMaker endpoint and store CloudWatch logs and (2) SageMaker can perform necessary functions to deploy endpoint.</span>\n",
    "    </li>\n",
    "    <li style=\"display: flex; align-items: center; margin-bottom: 0.5em;\">\n",
    "        <img src=\"resources/api.png\" alt=\"Icon 2\" style=\"width: 20px; height: 20px; margin-right: 0.5em;\">\n",
    "        <span><b>API Gateway — </b> API Gateway wraps the named endpoint and logs all calls to Cloudwatch.</span>\n",
    "    </li>\n",
    "    <li style=\"display: flex; align-items: center;\">\n",
    "        <img src=\"resources/ecr.png\" alt=\"Icon 3\" style=\"width: 20px; height: 20px; margin-right: 0.5em;\">\n",
    "        <span><b>ECR — </b> We have an ECR repo where we will store our model container.</span>\n",
    "    </li>\n",
    "</ul>\n",
    "\n",
    "<br>\n",
    "\n",
    "<div style=\"text-align: center;\">\n",
    "    <img src=\"resources/aws-arch.png\" alt=\"AWS Architecture\" style=\"max-width: 100%; height: auto; max-height: 300px;\">\n",
    "</div>"
   ]
  },
  {
   "cell_type": "markdown",
   "id": "3",
   "metadata": {},
   "source": [
    "#### Initialize Terraform Environment\n",
    "First, we need to initialize our terraform environment.  This command only needs to be run once and will fetch the required AWS plugins."
   ]
  },
  {
   "cell_type": "code",
   "execution_count": null,
   "id": "4",
   "metadata": {
    "tags": []
   },
   "outputs": [],
   "source": [
    "%%bash\n",
    "cd ../../infrastructure\n",
    "terraform init"
   ]
  },
  {
   "cell_type": "markdown",
   "id": "5",
   "metadata": {},
   "source": [
    "<div style=\"\n",
    "    border: 1px solid rgba(121, 133, 148, 0.2); \n",
    "    border-radius: 5px; \n",
    "    padding: 10px; \n",
    "    background-color: rgba(121, 133, 148, 0.05); \n",
    "    margin-top: 10px; \n",
    "    max-width: 600px;\n",
    "    box-shadow: 0 0 10px rgba(121, 133, 148, 0.05);\n",
    "\">\n",
    "    <strong>Expected Output:</strong>\n",
    "    <pre style=\"\n",
    "        background-color: rgba(121, 133, 148, 0.1); \n",
    "        color: #279425; \n",
    "        padding: 10px; \n",
    "        border-radius: 5px; \n",
    "        margin-top: 5px;\n",
    "    \">\n",
    "Terraform has been successfully initialized!</pre>\n",
    "</div>\n"
   ]
  },
  {
   "cell_type": "markdown",
   "id": "6",
   "metadata": {},
   "source": [
    "#### Deploy Infrastructure"
   ]
  },
  {
   "cell_type": "markdown",
   "id": "7",
   "metadata": {},
   "source": [
    "Below we call `apply` which deploys the infrastructure directly to AWS. The first block of output tells you the plan, and the second streamed output is its status."
   ]
  },
  {
   "cell_type": "code",
   "execution_count": null,
   "id": "8",
   "metadata": {
    "tags": []
   },
   "outputs": [],
   "source": [
    "%%bash\n",
    "cd ../../infrastructure\n",
    "terraform apply -auto-approve"
   ]
  },
  {
   "cell_type": "markdown",
   "id": "9",
   "metadata": {},
   "source": [
    "<div style=\"\n",
    "    border: 1px solid rgba(121, 133, 148, 0.2); \n",
    "    border-radius: 5px; \n",
    "    padding: 10px; \n",
    "    background-color: rgba(121, 133, 148, 0.05); \n",
    "    margin-top: 10px; \n",
    "    max-width: 600px;\n",
    "    box-shadow: 0 0 10px rgba(121, 133, 148, 0.05);\n",
    "\">\n",
    "    <strong>Expected Output:</strong>\n",
    "    <pre style=\"\n",
    "        background-color: rgba(121, 133, 148, 0.1); \n",
    "        color: #279425; \n",
    "        padding: 10px; \n",
    "        border-radius: 5px; \n",
    "        margin-top: 5px;\n",
    "    \">\n",
    "Apply complete! ...</pre>\n",
    "</div>"
   ]
  },
  {
   "cell_type": "markdown",
   "id": "10",
   "metadata": {},
   "source": [
    "#### Read Terraform Outputs\n",
    "\n",
    "Lastly, we gather outputs from Terraform that we will plug into variables later in this notebook. Keep these private as we are dumping out secret keys which can be used to access your AWS account! We print a couple of these as you will need to copy and paste them into Data Cloud and Einstein Studio when we switch to the Salesforce portion of this tutorial."
   ]
  },
  {
   "cell_type": "code",
   "execution_count": null,
   "id": "11",
   "metadata": {
    "tags": []
   },
   "outputs": [],
   "source": [
    "import json\n",
    "\n",
    "terraform_output = !(cd ../../infrastructure && terraform output -json)\n",
    "terraform_output = json.loads(\"\".join(terraform_output))\n",
    "\n",
    "match terraform_output:\n",
    "    case {\n",
    "        \"api_url\": {\"value\": api_url},\n",
    "        \"ecr_url\": {\"value\": ecr_url},\n",
    "        \"iam_user\": {\"value\": iam_user},\n",
    "        \"api_token\": {\"value\": api_token},\n",
    "        \"model_name\": {\"value\": model_name},\n",
    "        \"s3_bucket\": {\"value\": s3_bucket},\n",
    "        \"sagemaker_execution_name\": {\"value\": sagemaker_execution_name},\n",
    "        \"iam_user_secret\": {\"value\": iam_user_secret},\n",
    "        \"iam_user_access_key\": {\"value\": iam_user_access_key},\n",
    "    }:\n",
    "        pass\n",
    "\n",
    "LJUST = 45\n",
    "print(\n",
    "    f\"\"\"Following are values that you can copy and paste into Data Cloud:\n",
    "  - {\"API Gateway URL\".ljust(LJUST)}= \\x1b[1m{api_url}\\x1b[0m\n",
    "  - {\"API Gateway Token\".ljust(LJUST)}= \\x1b[1m{api_token}\\x1b[0m\n",
    "    {\"\".ljust(LJUST+2)}\\x1b[31m⬆ DO NOT SHARE!\\x1b[0m\n",
    "  - {\"Einstein Studio AWS User Access Key\".ljust(LJUST)}= \\x1b[1m{iam_user_access_key}\\x1b[0m\n",
    "  - {\"Einstein Studio AWS User Secret\".ljust(LJUST)}= \\x1b[1m{iam_user_secret}\\x1b[0m  \n",
    "    {\"\".ljust(LJUST+2)}\\x1b[31m⬆ DO NOT SHARE!\\x1b[0m\n",
    "  - {\"S3 Bucket where we store data for Data Cloud\".ljust(LJUST)}= \\x1b[1m{s3_bucket}\\x1b[0m\n",
    "\"\"\"\n",
    ")"
   ]
  },
  {
   "cell_type": "markdown",
   "id": "12",
   "metadata": {},
   "source": [
    "#### Test Endpoint Connectivity\n",
    "\n",
    "Even though we have not set up the underlying SageMaker endpoint, we can still test that it is operating correctly. We expect traffic to route to the non-existant endpoint and through a `NO_SUCH_ENDPOINT` error. It may take a few minutes for the API Gateway to acknowledge the API token."
   ]
  },
  {
   "cell_type": "code",
   "execution_count": null,
   "id": "13",
   "metadata": {
    "tags": []
   },
   "outputs": [],
   "source": [
    "import json\n",
    "import requests\n",
    "\n",
    "\n",
    "def test_endpoint(api_url, api_token):\n",
    "    response = requests.post(\n",
    "        url=f\"{api_url}/invocations\",\n",
    "        headers={\n",
    "            \"x-api-key\": api_token,\n",
    "            \"Content-Type\": \"application/json\",\n",
    "        },\n",
    "        json={},\n",
    "    )\n",
    "    json_response = response.json()\n",
    "    user_out = json.dumps(json_response, indent=2)\n",
    "    print(f\"\\x1b[37mRESPONSE={user_out}\\x1b[0m\")\n",
    "    return response.json()\n",
    "\n",
    "\n",
    "response_data = test_endpoint(api_url, api_token)\n",
    "\n",
    "match response_data:\n",
    "    case {\"ErrorCode\": \"NO_SUCH_ENDPOINT\"}:\n",
    "        print(\"\\x1b[1;32mAPI correctly configured!\\x1b[0m\")\n",
    "    case {\"ErrorCode\": \"CLIENT_ERROR_FROM_MODEL\"}:\n",
    "        print(\n",
    "            \"\\x1b[1;31mThere is already a model hosted. Make sure to tear it down!\\x1b[0m\"\n",
    "        )\n",
    "    case _:\n",
    "        print(\n",
    "            \"\\x1b[1;31mSomething went wrong! \"\n",
    "            \"Check in the console to make sure it is correctly configured!\\x1b[0m\"\n",
    "        )"
   ]
  },
  {
   "cell_type": "markdown",
   "id": "14",
   "metadata": {
    "tags": []
   },
   "source": [
    "<div style=\"\n",
    "    border: 1px solid rgba(121, 133, 148, 0.2); \n",
    "    border-radius: 5px; \n",
    "    padding: 10px; \n",
    "    background-color: rgba(121, 133, 148, 0.05); \n",
    "    margin-top: 10px; \n",
    "    max-width: 600px;\n",
    "    box-shadow: 0 0 10px rgba(121, 133, 148, 0.05);\n",
    "\">\n",
    "    <strong>Expected Output:</strong>\n",
    "    <pre style=\"\n",
    "        background-color: rgba(121, 133, 148, 0.1); \n",
    "        color: #279425; \n",
    "        padding: 10px; \n",
    "        border-radius: 5px; \n",
    "        margin-top: 5px;\n",
    "    \">\n",
    "API correctly configured!</pre>\n",
    "</div>"
   ]
  },
  {
   "cell_type": "markdown",
   "id": "15",
   "metadata": {},
   "source": [
    "<br><br>\n",
    "<div style=\"border-top: 15px solid rgba(121, 133, 148, 0.05); border-radius: 15px; width: 75%; margin: 20px auto;\"></div>\n",
    "<br><br>"
   ]
  },
  {
   "cell_type": "markdown",
   "id": "16",
   "metadata": {},
   "source": [
    "## (Optional) Model Training\n",
    "\n",
    "In this section, we train the model from scratch. If you just want to walk through the pattern, you can skip this! We provide sample artifacts that you can use for deployment in the `artifacts/` folder.\n",
    "\n",
    "\n",
    "<div style=\"\n",
    "    background-color: rgba(111, 168, 220, 0.1); \n",
    "    border-color: rgba(111, 168, 220, 0.6); \n",
    "    border-left: 5px solid rgba(111, 168, 220, 1); \n",
    "    padding: 0.5em;\n",
    "\">\n",
    "    <b>NOTE:</b> The focus here is on deployment, so we omit details on how we develop the configuration file, which can be thought of as our hyperparameters. For our custom model, these hyperparameters are found through intensive analyses by decision scientists.\n",
    "</div>\n",
    "\n",
    "\n",
    "<br>\n",
    "\n",
    "<div style=\"text-align: center;\">\n",
    "    <img src=\"resources/model-training.png\" alt=\"AWS Architecture\" style=\"max-width: 80%; height: auto; max-height: 300px;\">\n",
    "</div>"
   ]
  },
  {
   "cell_type": "markdown",
   "id": "17",
   "metadata": {},
   "source": [
    "#### Install CSS\n",
    "The code in this section depends on the Python package defined in this repository. While you can install this remotely, it makes sense to install <b>this</b> version of the code to make sure it is synced. "
   ]
  },
  {
   "cell_type": "code",
   "execution_count": null,
   "id": "18",
   "metadata": {
    "tags": []
   },
   "outputs": [],
   "source": [
    "import sys\n",
    "import importlib\n",
    "import os\n",
    "\n",
    "! cd ../.. && pip install -e \".[deploy]\"\n",
    "\n",
    "try:\n",
    "    import css\n",
    "except ImportError as exc:\n",
    "    print(\"Manually adding path to avoid notebook restart...\")\n",
    "    package_path = os.path.abspath(os.path.join(\"..\", \"..\"))\n",
    "    sys.path.append(package_path)\n",
    "    importlib.invalidate_caches()\n",
    "    import css"
   ]
  },
  {
   "cell_type": "markdown",
   "id": "19",
   "metadata": {},
   "source": [
    "<div style=\"\n",
    "    border: 1px solid rgba(121, 133, 148, 0.2); \n",
    "    border-radius: 5px; \n",
    "    padding: 10px; \n",
    "    background-color: rgba(121, 133, 148, 0.05); \n",
    "    margin-top: 10px; \n",
    "    max-width: 600px;\n",
    "    box-shadow: 0 0 10px rgba(121, 133, 148, 0.05);\n",
    "\">\n",
    "    <strong>Expected Output:</strong>\n",
    "    <pre style=\"\n",
    "        background-color: rgba(121, 133, 148, 0.1); \n",
    "        padding: 10px; \n",
    "        border-radius: 5px; \n",
    "        margin-top: 5px;\n",
    "    \">\n",
    "Successfully installed css-...</pre>\n",
    "</div>"
   ]
  },
  {
   "cell_type": "markdown",
   "id": "20",
   "metadata": {},
   "source": [
    "#### Set Up Logging\n",
    "\n",
    "We want to stream the model fit logs to standard output so we can observe the model being fit. "
   ]
  },
  {
   "cell_type": "code",
   "execution_count": null,
   "id": "21",
   "metadata": {
    "tags": []
   },
   "outputs": [],
   "source": [
    "import logging\n",
    "import sys\n",
    "\n",
    "logging.basicConfig(\n",
    "    format=\"%(asctime)s %(levelname)s -- %(name)s: %(message)s\",\n",
    "    level=logging.INFO,\n",
    "    stream=sys.stdout,\n",
    ")"
   ]
  },
  {
   "cell_type": "markdown",
   "id": "22",
   "metadata": {},
   "source": [
    "#### Pull in Training Data\n",
    "\n",
    "We use data provided in the `data/` folder and merge it together into a single source. In production, this data will come from a mix of Data Cloud and CRM so we mimic that during training."
   ]
  },
  {
   "cell_type": "code",
   "execution_count": null,
   "id": "23",
   "metadata": {
    "tags": []
   },
   "outputs": [],
   "source": [
    "import pandas as pd\n",
    "\n",
    "all_data = pd.read_csv(\"data/usage_metrics.csv\", index_col=0)\n",
    "_product_data = pd.read_csv(\"data/product_metrics.csv\", index_col=0)\n",
    "_peer_dims_data = pd.read_csv(\"data/peer_dims.csv\", index_col=0)\n",
    "\n",
    "all_data[_product_data.columns] = _product_data\n",
    "all_data[_peer_dims_data.columns] = _peer_dims_data"
   ]
  },
  {
   "cell_type": "markdown",
   "id": "24",
   "metadata": {},
   "source": [
    "#### Deserialize the Configuration File into a Model Object\n",
    "\n",
    "We define model structures as configuration YAML files. Our `ConfigModel` reads this into a our structure then converts it to a model object (`service_model`) which is untrained but preconfigured with our hyperparameters."
   ]
  },
  {
   "cell_type": "code",
   "execution_count": null,
   "id": "25",
   "metadata": {
    "tags": []
   },
   "outputs": [],
   "source": [
    "from css import config\n",
    "\n",
    "service_model_config = config.ConfigModel.from_yaml(\"config.yaml\")\n",
    "service_model = service_model_config.to_obj()"
   ]
  },
  {
   "cell_type": "markdown",
   "id": "26",
   "metadata": {},
   "source": [
    "#### Train the Model On Our Data\n",
    "\n",
    "We fit the model. It iterates metric by metric. You can ignore the warnings! These are fitting logs that can be tracked later, we are technically fitting thousands of distributions in this step so we expect a lot of noise. Our $R^2$ values are all 1 because we are using nearest neighbors and theoretical distributions."
   ]
  },
  {
   "cell_type": "code",
   "execution_count": null,
   "id": "27",
   "metadata": {
    "tags": []
   },
   "outputs": [],
   "source": [
    "service_model.fit(all_data)"
   ]
  },
  {
   "cell_type": "markdown",
   "id": "28",
   "metadata": {},
   "source": [
    "#### Serialize Model for Deployment\n",
    "\n",
    "Finally, we serialize the Python object as a pickle file then wrap the pickle file in a tarfile. This is how SageMaker expects model data. "
   ]
  },
  {
   "cell_type": "code",
   "execution_count": null,
   "id": "29",
   "metadata": {
    "tags": []
   },
   "outputs": [],
   "source": [
    "import pickle as pkl\n",
    "import tarfile\n",
    "\n",
    "# Serialize model\n",
    "with open(\"artifacts/css-model\", \"wb\") as f:\n",
    "    pkl.dump(service_model, f)\n",
    "\n",
    "# Compress model file for SageMaker\n",
    "tar_filename = \"artifacts/model_data.tar.gz\"\n",
    "with tarfile.open(tar_filename, \"w:gz\") as tar:\n",
    "    tar.add(\"artifacts/css-model\", arcname=\"css-model\")"
   ]
  },
  {
   "cell_type": "markdown",
   "id": "30",
   "metadata": {},
   "source": [
    "<br><br>\n",
    "<div style=\"border-top: 15px solid rgba(121, 133, 148, 0.05); border-radius: 15px; width: 75%; margin: 20px auto;\"></div>\n",
    "<br><br>"
   ]
  },
  {
   "cell_type": "markdown",
   "id": "31",
   "metadata": {},
   "source": [
    "## Build and Push Docker Container\n",
    "\n",
    "<div style=\"\n",
    "    border: 2px solid #6fa8dc; \n",
    "    background-color: rgba(121, 133, 148, 0.05); \n",
    "    padding: 1em; \n",
    "    margin-bottom: 1em; \n",
    "    border-radius: 8px;\n",
    "    box-shadow: 0 0 10px rgba(121, 133, 148, 0.05);\n",
    "\">\n",
    "    <h3 style=\"margin-top: 0; font-size: 1.25em;\"><b>Prerequisites</b></h3>\n",
    "    Docker must be installed and the daemon must be running.\n",
    "    <ul style=\"list-style-type: none; padding: 2; margin: 0;\">\n",
    "        <li style=\"display: flex; align-items: center; margin-bottom: 0.5em; margin-top: 0.5em;\">\n",
    "            <span>➡️ \n",
    "            <a href=\"https://docs.docker.com/engine/install/\" target=\"_blank\" style=\"text-decoration: none; color: #0073e6;\">\n",
    "                Install Docker\n",
    "            </a></span>\n",
    "        </li>\n",
    "    </ul>\n",
    "</div>\n",
    "\n",
    "<p>\n",
    "    We need a container that serves as the environment where our model will run. Below, we will build the container defined in our <code>Dockerfile</code> in the package.\n",
    "</p>\n"
   ]
  },
  {
   "cell_type": "markdown",
   "id": "32",
   "metadata": {},
   "source": [
    "### Get Constants\n",
    "\n",
    "In the following cell, we will gather the information we need to deploy our model to ECR."
   ]
  },
  {
   "cell_type": "code",
   "execution_count": null,
   "id": "33",
   "metadata": {
    "tags": []
   },
   "outputs": [],
   "source": [
    "css_version = css.__version__.replace(\"+\", \"_\")\n",
    "full_tag_name = f\"{ecr_url}:{css_version}\"\n",
    "region = full_tag_name.split(\".\")[3]"
   ]
  },
  {
   "cell_type": "markdown",
   "id": "34",
   "metadata": {},
   "source": [
    "#### Login to ECR from Local\n",
    "\n",
    "We need to get a docker login such that we can push our image to ECR from local. If run correctly, this should print `Login Succeeded`."
   ]
  },
  {
   "cell_type": "code",
   "execution_count": null,
   "id": "35",
   "metadata": {
    "tags": []
   },
   "outputs": [],
   "source": [
    "command = (\n",
    "    f\"aws ecr get-login-password --region {region} \"\n",
    "    f\"| docker login --username AWS --password-stdin {full_tag_name}\"\n",
    ")\n",
    "!{command}"
   ]
  },
  {
   "cell_type": "markdown",
   "id": "36",
   "metadata": {},
   "source": [
    "<div style=\"\n",
    "    border: 1px solid rgba(121, 133, 148, 0.2); \n",
    "    border-radius: 5px; \n",
    "    padding: 10px; \n",
    "    background-color: rgba(121, 133, 148, 0.05); \n",
    "    margin-top: 10px; \n",
    "    max-width: 600px;\n",
    "    box-shadow: 0 0 10px rgba(121, 133, 148, 0.05);\n",
    "\">\n",
    "    <strong>Expected Output:</strong>\n",
    "    <pre style=\"\n",
    "        background-color: rgba(121, 133, 148, 0.1); \n",
    "        padding: 10px; \n",
    "        border-radius: 5px; \n",
    "        margin-top: 5px;\n",
    "    \">\n",
    "Login Succeeded</pre>\n",
    "</div>"
   ]
  },
  {
   "cell_type": "markdown",
   "id": "37",
   "metadata": {},
   "source": [
    "### Build the Container\n",
    "\n",
    "We will build the container locally then tag with the correct ECR name. This may take a while, especially the first time!"
   ]
  },
  {
   "cell_type": "code",
   "execution_count": null,
   "id": "38",
   "metadata": {
    "tags": []
   },
   "outputs": [],
   "source": [
    "!DOCKER_CLI_HINTS=false docker build --progress=plain -t css_mini ../..\n",
    "!docker tag css_mini {full_tag_name}"
   ]
  },
  {
   "cell_type": "markdown",
   "id": "39",
   "metadata": {},
   "source": [
    "<div style=\"\n",
    "    border: 1px solid rgba(121, 133, 148, 0.2); \n",
    "    border-radius: 5px; \n",
    "    padding: 10px; \n",
    "    background-color: rgba(121, 133, 148, 0.05); \n",
    "    margin-top: 10px; \n",
    "    max-width: 600px;\n",
    "    box-shadow: 0 0 10px rgba(121, 133, 148, 0.05);\n",
    "\">\n",
    "    <strong>Expected Output:</strong>\n",
    "    <pre style=\"\n",
    "        background-color: rgba(121, 133, 148, 0.1); \n",
    "        padding: 10px; \n",
    "        border-radius: 5px; \n",
    "        margin-top: 5px;\n",
    "    \">\n",
    "#14 DONE X.Xs</pre>\n",
    "</div>"
   ]
  },
  {
   "cell_type": "markdown",
   "id": "40",
   "metadata": {},
   "source": [
    "### Push the Container to ECR\n",
    "\n",
    "We can now push the container to the remote repository. If this step doesn't work, your ECR repository was not correctly configured."
   ]
  },
  {
   "cell_type": "code",
   "execution_count": null,
   "id": "41",
   "metadata": {
    "tags": []
   },
   "outputs": [],
   "source": [
    "!docker push {full_tag_name}"
   ]
  },
  {
   "cell_type": "markdown",
   "id": "42",
   "metadata": {},
   "source": [
    "<div style=\"\n",
    "    border: 1px solid rgba(121, 133, 148, 0.2); \n",
    "    border-radius: 5px; \n",
    "    padding: 10px; \n",
    "    background-color: rgba(121, 133, 148, 0.05); \n",
    "    margin-top: 10px; \n",
    "    max-width: 600px;\n",
    "    box-shadow: 0 0 10px rgba(121, 133, 148, 0.05);\n",
    "\">\n",
    "    <strong>Expected Output:</strong>\n",
    "    <pre style=\"\n",
    "        background-color: rgba(121, 133, 148, 0.1); \n",
    "        padding: 10px; \n",
    "        border-radius: 5px; \n",
    "        margin-top: 5px;\n",
    "    \">\n",
    "...: Pushed     XXXMB/XXXMB</pre>\n",
    "</div>"
   ]
  },
  {
   "cell_type": "markdown",
   "id": "43",
   "metadata": {},
   "source": [
    "<br><br>\n",
    "<div style=\"border-top: 15px solid rgba(121, 133, 148, 0.05); border-radius: 15px; width: 75%; margin: 20px auto;\"></div>\n",
    "<br><br>"
   ]
  },
  {
   "cell_type": "markdown",
   "id": "44",
   "metadata": {},
   "source": [
    "## Deploy Endpoint\n",
    "\n",
    "<div style=\"\n",
    "    border: 2px solid #6fa8dc; \n",
    "    background-color: rgba(121, 133, 148, 0.05); \n",
    "    padding: 1em; \n",
    "    margin-bottom: 1em; \n",
    "    border-radius: 8px;\n",
    "    box-shadow: 0 0 10px rgba(121, 133, 148, 0.05);\n",
    "\">\n",
    "    <h3 style=\"margin-top: 0; font-size: 1.25em;\"><b>Prerequisites</b></h3>\n",
    "    We need everything to have been run correctly up to this point — excluding model training, unless specifically desired.\n",
    "    <ul style=\"list-style-type: none; padding: 2; margin: 0;\">\n",
    "        <li style=\"display: flex; align-items: center; margin-bottom: 0.5em; margin-top: 0.5em;\">\n",
    "            ➡️ AWS infra deployed\n",
    "        </li>\n",
    "        <li style=\"display: flex; align-items: center; margin-bottom: 0.5em; margin-top: 0.5em;\">\n",
    "            ➡️ Docker container built and pushed to ECR\n",
    "        </li>\n",
    "        <li style=\"display: flex; align-items: center; margin-bottom: 0.5em; margin-top: 0.5em;\">\n",
    "            <span>➡️ <code>sagemaker</code> Python package installed</span>\n",
    "        </li>\n",
    "    </ul>\n",
    "</div>\n"
   ]
  },
  {
   "cell_type": "markdown",
   "id": "45",
   "metadata": {},
   "source": [
    "#### Deploy to SageMaker\n",
    "\n",
    "In the following cell, we create a function that we will use to host our model as an endpoint and execute with values generated from previous cells. \n",
    "\n",
    "SageMaker prints a dash (`-`) per minute to indicate loading. This may take up to five minutes. Once it is successfully deployed, it shows an exclamation mark (`!`)."
   ]
  },
  {
   "cell_type": "code",
   "execution_count": null,
   "id": "46",
   "metadata": {
    "tags": []
   },
   "outputs": [],
   "source": [
    "import sagemaker\n",
    "import boto3\n",
    "\n",
    "\n",
    "def deploy(\n",
    "    fit_model_dump: str,\n",
    "    ecr_image: str,\n",
    "    execution_role: str,\n",
    "    instance_type: str = \"ml.t2.medium\",\n",
    ") -> sagemaker.predictor.Predictor:\n",
    "    \"\"\"Deploy CSS to SageMaker remote.\n",
    "\n",
    "    We upload our model data to S3, then use it to create a model definition in\n",
    "    SageMaker. This model is then deployed to an endpoint instance called\n",
    "    ``css-mini-service-endpoint``. We return a ``Predictor`` that can be used\n",
    "    to test that the model is responding as expected.\n",
    "\n",
    "    Args:\n",
    "        fit_model_dump: String path to our compressed model data.\n",
    "        ecr_image: String name of specific ECR image.\n",
    "        execution_role: Defaults to our Terraform IAM role.\n",
    "        instance_type: Defaults to a small machine which should be all we need\n",
    "            for this demo!\n",
    "    \"\"\"\n",
    "    sagemaker_session = sagemaker.Session(boto_session=boto3.Session())\n",
    "    model_data = sagemaker_session.upload_data(\n",
    "        fit_model_dump, key_prefix=\"css/model_data\"\n",
    "    )\n",
    "\n",
    "    model = sagemaker.model.Model(\n",
    "        ecr_image,\n",
    "        role=execution_role,\n",
    "        sagemaker_session=sagemaker_session,\n",
    "        model_data=model_data,\n",
    "        predictor_cls=sagemaker.predictor.Predictor,\n",
    "        env={\"MODEL_DATA\": model_data},\n",
    "    )\n",
    "\n",
    "    predictor = model.deploy(\n",
    "        instance_type=instance_type,\n",
    "        initial_instance_count=1,\n",
    "        endpoint_name=model_name,\n",
    "    )\n",
    "    predictor.serializer = sagemaker.serializers.JSONSerializer()\n",
    "    predictor.deserializer = sagemaker.deserializers.JSONDeserializer()\n",
    "    return predictor\n",
    "\n",
    "\n",
    "predictor = deploy(\n",
    "    fit_model_dump=\"artifacts/model_data.tar.gz\",\n",
    "    ecr_image=full_tag_name,\n",
    "    execution_role=sagemaker_execution_name,\n",
    ")"
   ]
  },
  {
   "cell_type": "markdown",
   "id": "47",
   "metadata": {},
   "source": [
    "<div style=\"\n",
    "    border: 1px solid rgba(121, 133, 148, 0.2); \n",
    "    border-radius: 5px; \n",
    "    padding: 10px; \n",
    "    background-color: rgba(121, 133, 148, 0.05); \n",
    "    margin-top: 10px; \n",
    "    max-width: 600px;\n",
    "    box-shadow: 0 0 10px rgba(121, 133, 148, 0.05);\n",
    "\">\n",
    "    <strong>Expected Output:</strong>\n",
    "    SageMaker prints a dash per minute to indicate loading. This may take up to five minutes. Once it is successfully deployed, it shows an exclamation mark.\n",
    "    <pre style=\"\n",
    "        background-color: rgba(121, 133, 148, 0.1); \n",
    "        padding: 10px; \n",
    "        border-radius: 5px; \n",
    "        margin-top: 5px;\n",
    "    \">\n",
    "-----!</pre>\n",
    "</div>\n"
   ]
  },
  {
   "cell_type": "markdown",
   "id": "48",
   "metadata": {},
   "source": [
    "#### Test the Remote Endpoint\n",
    "We will send some null data to the endpoint and make sure that it is sending back predictions as expected."
   ]
  },
  {
   "cell_type": "code",
   "execution_count": null,
   "id": "49",
   "metadata": {
    "tags": []
   },
   "outputs": [],
   "source": [
    "all_zeroes = {\"instances\": [{\"features\": [0] * 15}]}\n",
    "predictions = predictor.predict(all_zeroes)\n",
    "\n",
    "print(f\"\\x1b[37mRESPONSE={json.dumps(predictions, indent=2)}\\x1b[0m\")\n",
    "match predictions:\n",
    "    case {\"predictions\": [{\"last_modified\": _}]}:\n",
    "        print(\"\\x1b[1;32mGot expected response!\\x1b[0m\")\n",
    "    case _:\n",
    "        print(\"\\x1b[1;31mSomething went wrong! Check Cloudwatch logs to debug.\\x1b[0m\")"
   ]
  },
  {
   "cell_type": "markdown",
   "id": "50",
   "metadata": {
    "tags": []
   },
   "source": [
    "<div style=\"\n",
    "    border: 1px solid rgba(121, 133, 148, 0.2); \n",
    "    border-radius: 5px; \n",
    "    padding: 10px; \n",
    "    background-color: rgba(121, 133, 148, 0.05); \n",
    "    margin-top: 10px; \n",
    "    max-width: 600px;\n",
    "    box-shadow: 0 0 10px rgba(121, 133, 148, 0.05);\n",
    "\">\n",
    "    <strong>Expected Output:</strong>\n",
    "    <pre style=\"\n",
    "        background-color: rgba(121, 133, 148, 0.1); \n",
    "        padding: 10px; \n",
    "        border-radius: 5px; \n",
    "        margin-top: 5px;\n",
    "    \">\n",
    "Got expected response!</pre>\n",
    "</div>"
   ]
  },
  {
   "cell_type": "markdown",
   "id": "51",
   "metadata": {},
   "source": [
    "<br><br>\n",
    "<div style=\"border-top: 15px solid rgba(121, 133, 148, 0.05); border-radius: 15px; width: 75%; margin: 20px auto;\"></div>\n",
    "<br><br>"
   ]
  },
  {
   "cell_type": "markdown",
   "id": "52",
   "metadata": {},
   "source": [
    "## Data Cloud\n",
    "\n",
    "<div style=\"\n",
    "    border: 2px solid #6fa8dc; \n",
    "    background-color: rgba(121, 133, 148, 0.05); \n",
    "    padding: 1em; \n",
    "    margin-bottom: 1em; \n",
    "    border-radius: 8px;\n",
    "    box-shadow: 0 0 10px rgba(121, 133, 148, 0.05);\n",
    "\">\n",
    "    <h3 style=\"margin-top: 0; font-size: 1.25em;\"><b>Prerequisites</b></h3>\n",
    "    We will use Salesforce Data Cloud to connect to our endpoint above:\n",
    "    <ul style=\"list-style-type: none; padding: 2; margin: 0;\">\n",
    "        <li style=\"display: flex; align-items: center; margin-bottom: 0.5em; margin-top: 0.5em;\">\n",
    "            ➡️ Data Cloud instance that has been set up\n",
    "        </li>\n",
    "    </ul>\n",
    "</div>\n"
   ]
  },
  {
   "cell_type": "markdown",
   "id": "53",
   "metadata": {},
   "source": [
    "### Upload data\n",
    "We will load some data to our S3 bucket that Data Cloud will register as a Data Stream and track it for changes in data."
   ]
  },
  {
   "cell_type": "code",
   "execution_count": null,
   "id": "54",
   "metadata": {
    "tags": []
   },
   "outputs": [],
   "source": [
    "import boto3\n",
    "\n",
    "s3_client = boto3.Session().client(\"s3\")\n",
    "s3_client.upload_file(\n",
    "    \"data/product_metrics.csv\", s3_bucket, \"product_metrics/product_metrics.csv\"\n",
    ")\n",
    "s3_client.upload_file(\n",
    "    \"data/usage_metrics.csv\", s3_bucket, \"usage_metrics/usage_metrics.csv\"\n",
    ")"
   ]
  },
  {
   "cell_type": "markdown",
   "id": "55",
   "metadata": {},
   "source": [
    "<table style=\"width: 65%; min-width: 800px; margin: 40px auto; table-layout: fixed;\">\n",
    "  <tr style=\"background-color: rgba(255,255,255,0) !important;\">\n",
    "    <!-- Content Box -->\n",
    "    <td style=\"vertical-align: top; width: 50%; padding-right: 5px;\">\n",
    "      <div style=\"\n",
    "          background-color: rgba(121, 133, 148, 0.05); \n",
    "          padding: 40px; \n",
    "          border-radius: 18px; \n",
    "          margin-left: auto;\n",
    "          margin-right: 0;\n",
    "          max-width: 75%;\n",
    "          min-width: 200px;\n",
    "      \">\n",
    "        <h2>Stop here and switch over to Data Cloud tutorial!</h2>\n",
    "        <p>With all of this done, we can now walk through the Data Cloud portion of the tutorial in <em>developers.salesforce.com</em>.</p>\n",
    "        <div style=\"text-align: center;\">\n",
    "          <a href=\"https://www.example.com\" target=\"_blank\">\n",
    "            <div style=\"\n",
    "                background: linear-gradient(33deg, #359ddc, #6abdef);\n",
    "                border: none;\n",
    "                color: white;\n",
    "                padding: 10px 20px;\n",
    "                text-align: center;\n",
    "                text-decoration: none;\n",
    "                display: inline-block;\n",
    "                font-size: 16px;\n",
    "                margin-top: 20px;\n",
    "                cursor: pointer;\n",
    "                border-radius: 8px;\n",
    "                box-shadow: 2px 2px 6px rgba(0, 0, 0, 0.2), 2px 2px 4px rgba(121, 133, 148, 0.5);\n",
    "            \">Go to Example</div>\n",
    "          </a>\n",
    "        </div>\n",
    "      </div>\n",
    "    </td>\n",
    "    <!-- Image -->\n",
    "    <td style=\"vertical-align: center; width: 20%; text-align: left; padding-left: 20px;\">\n",
    "      <img src=\"../shared/genie.webp\" style=\"height: auto; max-height: 300px; max-width: 100%; min-width: 200px;\">\n",
    "    </td>\n",
    "  </tr>\n",
    "</table>\n"
   ]
  },
  {
   "cell_type": "markdown",
   "id": "56",
   "metadata": {},
   "source": [
    "#### Test Data Cloud Streaming\n",
    "Let's update some of our data in S3 and see it arrive in Data Cloud then trigger a prediction job! We have another CSV where we update the product metrics for a subset of users. We show the change below, then update the file in S3."
   ]
  },
  {
   "cell_type": "code",
   "execution_count": null,
   "id": "57",
   "metadata": {
    "tags": []
   },
   "outputs": [],
   "source": [
    "import pandas as pd\n",
    "import numpy as np\n",
    "\n",
    "s3_client.upload_file(\n",
    "    \"data/product_metrics_update.csv\",\n",
    "    s3_bucket,\n",
    "    \"product_metrics/product_metrics_update.csv\",\n",
    ")\n",
    "\n",
    "\n",
    "def show_change(old: pd.DataFrame, new: pd.DataFrame) -> pd.io.formats.style.Styler:\n",
    "    columns = [c for c in old.columns if c != \"last_updated\"]\n",
    "    frames = []\n",
    "    for c in columns:\n",
    "        new_series = new[c]\n",
    "        col_df = old[c].to_frame().reindex(new_series.index)\n",
    "        col_df[\"diff\"] = np.where(new_series - col_df[c] > 0, \"↗\", \"↘\")\n",
    "        col_df[\"new\"] = new_series\n",
    "        col_mi = pd.MultiIndex.from_product([[c], [\"old\", \"\", \"new\"]])\n",
    "        col_df.columns = col_mi\n",
    "        frames.append(col_df)\n",
    "    analysis_df = pd.concat(frames, axis=1)\n",
    "\n",
    "    def highlight_greater_less(s):\n",
    "        if s.name[1] == \"new\":\n",
    "            x = analysis_df[(s.name[0], \"old\")]\n",
    "            return [\n",
    "                \"color: green\" if s_i > x_i else \"color: red\" for s_i, x_i in zip(s, x)\n",
    "            ]\n",
    "        return [\"color: lightgrey\"] * len(s)\n",
    "\n",
    "    last_updated_old = old.last_updated.iloc[0]\n",
    "    last_updated_new = new.last_updated.iloc[0]\n",
    "    caption = (\n",
    "        \"Data changed for accounts from \"\n",
    "        f\"<b>{last_updated_old}</b> to <b>{last_updated_new}</b>\"\n",
    "    )\n",
    "    caption_styles = {}\n",
    "    caption_styles[\"selector\"] = \"caption\"\n",
    "    caption_styles[\"props\"] = \"caption-side: bottom; text-align: right;\"\n",
    "    return (\n",
    "        analysis_df.style.apply(highlight_greater_less, axis=0)\n",
    "        .set_caption(caption)\n",
    "        .set_table_styles([caption_styles], overwrite=False)\n",
    "    )\n",
    "\n",
    "\n",
    "old_product_metrics = pd.read_csv(\"data/product_metrics.csv\", index_col=0)\n",
    "new_product_metrics = pd.read_csv(\"data/product_metrics_update.csv\", index_col=0)\n",
    "show_change(old_product_metrics, new_product_metrics)"
   ]
  },
  {
   "cell_type": "markdown",
   "id": "58",
   "metadata": {},
   "source": [
    "<br><br>\n",
    "<div style=\"border-top: 15px solid rgba(121, 133, 148, 0.05); border-radius: 15px; width: 75%; margin: 20px auto;\"></div>\n",
    "<br><br>"
   ]
  },
  {
   "cell_type": "markdown",
   "id": "59",
   "metadata": {},
   "source": [
    "## Clean Up\n",
    "\n",
    "Once you are done, you can tear down your endpoint with the following. This will make your model inaccessible, so don't do this until you have completed the entire tutorial!"
   ]
  },
  {
   "cell_type": "code",
   "execution_count": null,
   "id": "60",
   "metadata": {
    "tags": []
   },
   "outputs": [],
   "source": [
    "import sagemaker\n",
    "\n",
    "sagemaker.Session().delete_endpoint(model_name)\n",
    "sagemaker.Session().delete_endpoint_config(model_name)"
   ]
  },
  {
   "cell_type": "markdown",
   "id": "61",
   "metadata": {
    "tags": []
   },
   "source": [
    "<div style=\"\n",
    "    border: 1px solid rgba(121, 133, 148, 0.2); \n",
    "    border-radius: 5px; \n",
    "    padding: 10px; \n",
    "    background-color: rgba(121, 133, 148, 0.05); \n",
    "    margin-top: 10px; \n",
    "    max-width: 600px;\n",
    "    box-shadow: 0 0 10px rgba(121, 133, 148, 0.05);\n",
    "\">\n",
    "    <strong>Expected Output:</strong>\n",
    "    <pre style=\"\n",
    "        background-color: rgba(121, 133, 148, 0.1); \n",
    "        padding: 10px; \n",
    "        border-radius: 5px; \n",
    "        margin-top: 5px;\n",
    "    \">\n",
    "Deleting endpoint with name: ...\n",
    "Deleting endpoint configuration with name: ...</pre>\n",
    "</div>"
   ]
  },
  {
   "cell_type": "markdown",
   "id": "62",
   "metadata": {},
   "source": [
    "You can also remove all of the infrastructure deployed to your AWS account with this command."
   ]
  },
  {
   "cell_type": "code",
   "execution_count": null,
   "id": "63",
   "metadata": {},
   "outputs": [],
   "source": [
    "%%bash\n",
    "cd ../../infrastructure\n",
    "terraform destroy -auto-approve"
   ]
  },
  {
   "cell_type": "markdown",
   "id": "64",
   "metadata": {},
   "source": [
    "<br><br>\n",
    "<div style=\"text-align: center;\">\n",
    "    <img src=\"../shared/divider.png\" alt=\"AWS Architecture\" style=\"max-width: 100%; height: auto; max-height: 50px;\">\n",
    "</div>"
   ]
  }
 ],
 "metadata": {
  "kernelspec": {
   "display_name": "Python 3 (ipykernel)",
   "language": "python",
   "name": "python3"
  },
  "language_info": {
   "codemirror_mode": {
    "name": "ipython",
    "version": 3
   },
   "file_extension": ".py",
   "mimetype": "text/x-python",
   "name": "python",
   "nbconvert_exporter": "python",
   "pygments_lexer": "ipython3",
   "version": "3.10.4"
  }
 },
 "nbformat": 4,
 "nbformat_minor": 5
}
